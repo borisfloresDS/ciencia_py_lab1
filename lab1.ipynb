{
 "cells": [
  {
   "cell_type": "markdown",
   "metadata": {},
   "source": [
    "Boris Flores\n",
    "24000177"
   ]
  },
  {
   "cell_type": "markdown",
   "metadata": {},
   "source": [
    "# GIT\n"
   ]
  },
  {
   "cell_type": "markdown",
   "metadata": {},
   "source": [
    "Es un sistema para llevar control de cambios de código en el desarrollo de software. Fue creado por Linus Torvalds en 2005 y era para uso en el kernel de Linux, ahora disponible para más plataformas.\n",
    "\n",
    "Git se enfoca en que varios desarrolladores puedan trabajar en el mismo código simultáneamente. Se crea un historial de los cambios y se puede revertir a versiones anteriores, al igual que unir los cambios al código principal.\n",
    "\n",
    "Git se divide por repositorios, que son los proyectos que se están desarrollando donde se pueden hacer los cambios y ser comparados o llevados como ramas."
   ]
  },
  {
   "cell_type": "markdown",
   "metadata": {},
   "source": [
    "# GitHub"
   ]
  },
  {
   "cell_type": "markdown",
   "metadata": {},
   "source": [
    "GitHub es una herramienta en línea creada alrededor de Git para poder manejar proyectos de desarrollo de datos, ya sea colaborativos o individuales, donde se pueda hacer una gestión de revisión de código antes de comprometerse a unirlo con el principal..\n",
    "\n",
    "Es muy utilizado en la industria por project managers, desarrolladores y otro tipo de colaboradores que requieran llevar el control de un proceso de desarrollo de software, en especial si es colaborativo.\n",
    "\n",
    "Una de las ventajas más grandes de GitHub son los repositorios, donde se pueden ver los cambios en el tiempo y donde las demás personas pueden contribuir; incluso si es un repositorio público, cualquiera puede contribuir al código.\n",
    "\n",
    "Como es una herramienta enfocada en proyectos, sus grandes ventajas se enfocan en: colaboración, encontrar alguna falla en el código, organización alcanzando objetivos, priorizar ciertas partes del proyecto, integración con la comunidad e integración con otras herramientas."
   ]
  },
  {
   "cell_type": "code",
   "execution_count": 3,
   "metadata": {},
   "outputs": [],
   "source": [
    "import git\n",
    "from git import Repo"
   ]
  },
  {
   "cell_type": "code",
   "execution_count": 4,
   "metadata": {},
   "outputs": [
    {
     "data": {
      "text/plain": [
       "('https://github.com/borisfloresDS/ciencia_py_lab1.git',\n",
       " 'A:/boris/Documents/Galileo/Primertrimestre/CienciadedatosconPython')"
      ]
     },
     "execution_count": 4,
     "metadata": {},
     "output_type": "execute_result"
    }
   ],
   "source": [
    "'https://github.com/borisfloresDS/ciencia_py_lab1.git' , 'A:/boris/Documents/Galileo/Primertrimestre/CienciadedatosconPython'\n"
   ]
  },
  {
   "cell_type": "code",
   "execution_count": 5,
   "metadata": {},
   "outputs": [],
   "source": [
    "repo = git.Repo('A:/boris/Documents/Galileo/Primertrimestre/CienciadedatosconPython')"
   ]
  },
  {
   "cell_type": "code",
   "execution_count": 6,
   "metadata": {},
   "outputs": [
    {
     "data": {
      "text/plain": [
       "'On branch main\\nUntracked files:\\n  (use \"git add <file>...\" to include in what will be committed)\\n\\tlab1.ipynb\\n\\nnothing added to commit but untracked files present (use \"git add\" to track)'"
      ]
     },
     "execution_count": 6,
     "metadata": {},
     "output_type": "execute_result"
    }
   ],
   "source": [
    "repo.git.execute('git status')"
   ]
  },
  {
   "cell_type": "code",
   "execution_count": 7,
   "metadata": {},
   "outputs": [
    {
     "data": {
      "text/plain": [
       "'On branch main\\nUntracked files:\\n  (use \"git add <file>...\" to include in what will be committed)\\n\\tlab1.ipynb\\n\\nnothing added to commit but untracked files present (use \"git add\" to track)'"
      ]
     },
     "execution_count": 7,
     "metadata": {},
     "output_type": "execute_result"
    }
   ],
   "source": [
    "repo.git.status()"
   ]
  },
  {
   "cell_type": "code",
   "execution_count": 8,
   "metadata": {},
   "outputs": [
    {
     "ename": "GitCommandError",
     "evalue": "Cmd('git') failed due to: exit code(1)\n  cmdline: git pull\n  stderr: 'There is no tracking information for the current branch.\nPlease specify which branch you want to merge with.\nSee git-pull(1) for details.\n\n    git pull <remote> <branch>\n\nIf you wish to set tracking information for this branch you can do so with:\n\n    git branch --set-upstream-to=origin/<branch> main\n'",
     "output_type": "error",
     "traceback": [
      "\u001b[1;31m---------------------------------------------------------------------------\u001b[0m",
      "\u001b[1;31mGitCommandError\u001b[0m                           Traceback (most recent call last)",
      "Input \u001b[1;32mIn [8]\u001b[0m, in \u001b[0;36m<cell line: 1>\u001b[1;34m()\u001b[0m\n\u001b[1;32m----> 1\u001b[0m \u001b[43mrepo\u001b[49m\u001b[38;5;241;43m.\u001b[39;49m\u001b[43mgit\u001b[49m\u001b[38;5;241;43m.\u001b[39;49m\u001b[43mpull\u001b[49m\u001b[43m(\u001b[49m\u001b[43m)\u001b[49m\n",
      "File \u001b[1;32m~\\AppData\\Local\\Packages\\PythonSoftwareFoundation.Python.3.10_qbz5n2kfra8p0\\LocalCache\\local-packages\\Python310\\site-packages\\git\\cmd.py:800\u001b[0m, in \u001b[0;36mGit.__getattr__.<locals>.<lambda>\u001b[1;34m(*args, **kwargs)\u001b[0m\n\u001b[0;32m    798\u001b[0m \u001b[38;5;28;01mif\u001b[39;00m name[\u001b[38;5;241m0\u001b[39m] \u001b[38;5;241m==\u001b[39m \u001b[38;5;124m\"\u001b[39m\u001b[38;5;124m_\u001b[39m\u001b[38;5;124m\"\u001b[39m:\n\u001b[0;32m    799\u001b[0m     \u001b[38;5;28;01mreturn\u001b[39;00m LazyMixin\u001b[38;5;241m.\u001b[39m\u001b[38;5;21m__getattr__\u001b[39m(\u001b[38;5;28mself\u001b[39m, name)\n\u001b[1;32m--> 800\u001b[0m \u001b[38;5;28;01mreturn\u001b[39;00m \u001b[38;5;28;01mlambda\u001b[39;00m \u001b[38;5;241m*\u001b[39margs, \u001b[38;5;241m*\u001b[39m\u001b[38;5;241m*\u001b[39mkwargs: \u001b[38;5;28mself\u001b[39m\u001b[38;5;241m.\u001b[39m_call_process(name, \u001b[38;5;241m*\u001b[39margs, \u001b[38;5;241m*\u001b[39m\u001b[38;5;241m*\u001b[39mkwargs)\n",
      "File \u001b[1;32m~\\AppData\\Local\\Packages\\PythonSoftwareFoundation.Python.3.10_qbz5n2kfra8p0\\LocalCache\\local-packages\\Python310\\site-packages\\git\\cmd.py:1386\u001b[0m, in \u001b[0;36mGit._call_process\u001b[1;34m(self, method, *args, **kwargs)\u001b[0m\n\u001b[0;32m   1383\u001b[0m call\u001b[38;5;241m.\u001b[39mappend(dashify(method))\n\u001b[0;32m   1384\u001b[0m call\u001b[38;5;241m.\u001b[39mextend(args_list)\n\u001b[1;32m-> 1386\u001b[0m \u001b[38;5;28;01mreturn\u001b[39;00m \u001b[38;5;28mself\u001b[39m\u001b[38;5;241m.\u001b[39mexecute(call, \u001b[38;5;241m*\u001b[39m\u001b[38;5;241m*\u001b[39mexec_kwargs)\n",
      "File \u001b[1;32m~\\AppData\\Local\\Packages\\PythonSoftwareFoundation.Python.3.10_qbz5n2kfra8p0\\LocalCache\\local-packages\\Python310\\site-packages\\git\\cmd.py:1183\u001b[0m, in \u001b[0;36mGit.execute\u001b[1;34m(self, command, istream, with_extended_output, with_exceptions, as_process, output_stream, stdout_as_string, kill_after_timeout, with_stdout, universal_newlines, shell, env, max_chunk_size, strip_newline_in_stdout, **subprocess_kwargs)\u001b[0m\n\u001b[0;32m   1180\u001b[0m \u001b[38;5;66;03m# END handle debug printing\u001b[39;00m\n\u001b[0;32m   1182\u001b[0m \u001b[38;5;28;01mif\u001b[39;00m with_exceptions \u001b[38;5;129;01mand\u001b[39;00m status \u001b[38;5;241m!=\u001b[39m \u001b[38;5;241m0\u001b[39m:\n\u001b[1;32m-> 1183\u001b[0m     \u001b[38;5;28;01mraise\u001b[39;00m GitCommandError(redacted_command, status, stderr_value, stdout_value)\n\u001b[0;32m   1185\u001b[0m \u001b[38;5;28;01mif\u001b[39;00m \u001b[38;5;28misinstance\u001b[39m(stdout_value, \u001b[38;5;28mbytes\u001b[39m) \u001b[38;5;129;01mand\u001b[39;00m stdout_as_string:  \u001b[38;5;66;03m# Could also be output_stream.\u001b[39;00m\n\u001b[0;32m   1186\u001b[0m     stdout_value \u001b[38;5;241m=\u001b[39m safe_decode(stdout_value)\n",
      "\u001b[1;31mGitCommandError\u001b[0m: Cmd('git') failed due to: exit code(1)\n  cmdline: git pull\n  stderr: 'There is no tracking information for the current branch.\nPlease specify which branch you want to merge with.\nSee git-pull(1) for details.\n\n    git pull <remote> <branch>\n\nIf you wish to set tracking information for this branch you can do so with:\n\n    git branch --set-upstream-to=origin/<branch> main\n'"
     ]
    }
   ],
   "source": [
    "repo.git.pull()"
   ]
  },
  {
   "cell_type": "code",
   "execution_count": 9,
   "metadata": {},
   "outputs": [
    {
     "data": {
      "text/plain": [
       "''"
      ]
     },
     "execution_count": 9,
     "metadata": {},
     "output_type": "execute_result"
    }
   ],
   "source": [
    "repo.git.execute('git checkout -b my_branch')"
   ]
  },
  {
   "cell_type": "code",
   "execution_count": 10,
   "metadata": {},
   "outputs": [
    {
     "data": {
      "text/plain": [
       "'On branch my_branch\\nUntracked files:\\n  (use \"git add <file>...\" to include in what will be committed)\\n\\tlab1.ipynb\\n\\nnothing added to commit but untracked files present (use \"git add\" to track)'"
      ]
     },
     "execution_count": 10,
     "metadata": {},
     "output_type": "execute_result"
    }
   ],
   "source": [
    "repo.git.status()"
   ]
  },
  {
   "cell_type": "code",
   "execution_count": 11,
   "metadata": {},
   "outputs": [
    {
     "data": {
      "text/plain": [
       "'On branch my_branch\\nUntracked files:\\n  (use \"git add <file>...\" to include in what will be committed)\\n\\tlab1.ipynb\\n\\nnothing added to commit but untracked files present (use \"git add\" to track)'"
      ]
     },
     "execution_count": 11,
     "metadata": {},
     "output_type": "execute_result"
    }
   ],
   "source": [
    "repo.git.status()"
   ]
  }
 ],
 "metadata": {
  "kernelspec": {
   "display_name": "Python 3",
   "language": "python",
   "name": "python3"
  },
  "language_info": {
   "codemirror_mode": {
    "name": "ipython",
    "version": 3
   },
   "file_extension": ".py",
   "mimetype": "text/x-python",
   "name": "python",
   "nbconvert_exporter": "python",
   "pygments_lexer": "ipython3",
   "version": "3.10.11"
  }
 },
 "nbformat": 4,
 "nbformat_minor": 2
}
