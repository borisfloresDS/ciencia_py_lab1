{
 "cells": [
  {
   "cell_type": "markdown",
   "metadata": {},
   "source": [
    "Boris Flores\n",
    "24000177"
   ]
  },
  {
   "cell_type": "markdown",
   "metadata": {},
   "source": [
    "# GIT\n"
   ]
  },
  {
   "cell_type": "markdown",
   "metadata": {},
   "source": [
    "Es un sistema para llevar control de cambios de código en el desarrollo de software. Fue creado por Linus Torvalds en 2005 y era para uso en el kernel de Linux, ahora disponible para más plataformas.\n",
    "\n",
    "Git se enfoca en que varios desarrolladores puedan trabajar en el mismo código simultáneamente. Se crea un historial de los cambios y se puede revertir a versiones anteriores, al igual que unir los cambios al código principal.\n",
    "\n",
    "Git se divide por repositorios, que son los proyectos que se están desarrollando donde se pueden hacer los cambios y ser comparados o llevados como ramas."
   ]
  },
  {
   "cell_type": "markdown",
   "metadata": {},
   "source": [
    "# GitHub"
   ]
  },
  {
   "cell_type": "markdown",
   "metadata": {},
   "source": [
    "GitHub es una herramienta en línea creada alrededor de Git para poder manejar proyectos de desarrollo de datos, ya sea colaborativos o individuales, donde se pueda hacer una gestión de revisión de código antes de comprometerse a unirlo con el principal..\n",
    "\n",
    "Es muy utilizado en la industria por project managers, desarrolladores y otro tipo de colaboradores que requieran llevar el control de un proceso de desarrollo de software, en especial si es colaborativo.\n",
    "\n",
    "Una de las ventajas más grandes de GitHub son los repositorios, donde se pueden ver los cambios en el tiempo y donde las demás personas pueden contribuir; incluso si es un repositorio público, cualquiera puede contribuir al código.\n",
    "\n",
    "Como es una herramienta enfocada en proyectos, sus grandes ventajas se enfocan en: colaboración, encontrar alguna falla en el código, organización alcanzando objetivos, priorizar ciertas partes del proyecto, integración con la comunidad e integración con otras herramientas.."
   ]
  },
  {
   "cell_type": "code",
   "execution_count": 1,
   "metadata": {},
   "outputs": [],
   "source": [
    "import git\n",
    "from git import Repo"
   ]
  },
  {
   "cell_type": "code",
   "execution_count": 2,
   "metadata": {},
   "outputs": [
    {
     "data": {
      "text/plain": [
       "('https://github.com/borisfloresDS/ciencia_py_lab1.git',\n",
       " 'A:/boris/Documents/Galileo/Primertrimestre/CienciadedatosconPython')"
      ]
     },
     "execution_count": 2,
     "metadata": {},
     "output_type": "execute_result"
    }
   ],
   "source": [
    "'https://github.com/borisfloresDS/ciencia_py_lab1.git' , 'A:/boris/Documents/Galileo/Primertrimestre/CienciadedatosconPython'\n"
   ]
  },
  {
   "cell_type": "code",
   "execution_count": 12,
   "metadata": {},
   "outputs": [],
   "source": [
    "repo = git.Repo('A:/boris/Documents/Galileo/Primertrimestre/CienciadedatosconPython')"
   ]
  },
  {
   "cell_type": "code",
   "execution_count": 13,
   "metadata": {},
   "outputs": [
    {
     "data": {
      "text/plain": [
       "'On branch my_branch4\\nChanges not staged for commit:\\n  (use \"git add <file>...\" to update what will be committed)\\n  (use \"git restore <file>...\" to discard changes in working directory)\\n\\tmodified:   lab1.ipynb\\n\\nno changes added to commit (use \"git add\" and/or \"git commit -a\")'"
      ]
     },
     "execution_count": 13,
     "metadata": {},
     "output_type": "execute_result"
    }
   ],
   "source": [
    "repo.git.execute('git status')"
   ]
  },
  {
   "cell_type": "code",
   "execution_count": 7,
   "metadata": {},
   "outputs": [
    {
     "data": {
      "text/plain": [
       "'On branch my_branch4\\nChanges not staged for commit:\\n  (use \"git add <file>...\" to update what will be committed)\\n  (use \"git restore <file>...\" to discard changes in working directory)\\n\\tmodified:   lab1.ipynb\\n\\nno changes added to commit (use \"git add\" and/or \"git commit -a\")'"
      ]
     },
     "execution_count": 7,
     "metadata": {},
     "output_type": "execute_result"
    }
   ],
   "source": [
    "repo.git.status()"
   ]
  },
  {
   "cell_type": "code",
   "execution_count": 8,
   "metadata": {},
   "outputs": [
    {
     "ename": "GitCommandError",
     "evalue": "Cmd('g') failed due to: exit code(128)\n  cmdline: g i t   c h e c k o u t   - b   m y _ b r a n c h 2\n  stderr: 'fatal: a branch named 'my_branch2' already exists'",
     "output_type": "error",
     "traceback": [
      "\u001b[1;31m---------------------------------------------------------------------------\u001b[0m",
      "\u001b[1;31mGitCommandError\u001b[0m                           Traceback (most recent call last)",
      "Input \u001b[1;32mIn [8]\u001b[0m, in \u001b[0;36m<cell line: 1>\u001b[1;34m()\u001b[0m\n\u001b[1;32m----> 1\u001b[0m \u001b[43mrepo\u001b[49m\u001b[38;5;241;43m.\u001b[39;49m\u001b[43mgit\u001b[49m\u001b[38;5;241;43m.\u001b[39;49m\u001b[43mexecute\u001b[49m\u001b[43m(\u001b[49m\u001b[38;5;124;43m'\u001b[39;49m\u001b[38;5;124;43mgit checkout -b my_branch2\u001b[39;49m\u001b[38;5;124;43m'\u001b[39;49m\u001b[43m)\u001b[49m\n",
      "File \u001b[1;32m~\\AppData\\Local\\Packages\\PythonSoftwareFoundation.Python.3.10_qbz5n2kfra8p0\\LocalCache\\local-packages\\Python310\\site-packages\\git\\cmd.py:1183\u001b[0m, in \u001b[0;36mGit.execute\u001b[1;34m(self, command, istream, with_extended_output, with_exceptions, as_process, output_stream, stdout_as_string, kill_after_timeout, with_stdout, universal_newlines, shell, env, max_chunk_size, strip_newline_in_stdout, **subprocess_kwargs)\u001b[0m\n\u001b[0;32m   1180\u001b[0m \u001b[38;5;66;03m# END handle debug printing\u001b[39;00m\n\u001b[0;32m   1182\u001b[0m \u001b[38;5;28;01mif\u001b[39;00m with_exceptions \u001b[38;5;129;01mand\u001b[39;00m status \u001b[38;5;241m!=\u001b[39m \u001b[38;5;241m0\u001b[39m:\n\u001b[1;32m-> 1183\u001b[0m     \u001b[38;5;28;01mraise\u001b[39;00m GitCommandError(redacted_command, status, stderr_value, stdout_value)\n\u001b[0;32m   1185\u001b[0m \u001b[38;5;28;01mif\u001b[39;00m \u001b[38;5;28misinstance\u001b[39m(stdout_value, \u001b[38;5;28mbytes\u001b[39m) \u001b[38;5;129;01mand\u001b[39;00m stdout_as_string:  \u001b[38;5;66;03m# Could also be output_stream.\u001b[39;00m\n\u001b[0;32m   1186\u001b[0m     stdout_value \u001b[38;5;241m=\u001b[39m safe_decode(stdout_value)\n",
      "\u001b[1;31mGitCommandError\u001b[0m: Cmd('g') failed due to: exit code(128)\n  cmdline: g i t   c h e c k o u t   - b   m y _ b r a n c h 2\n  stderr: 'fatal: a branch named 'my_branch2' already exists'"
     ]
    }
   ],
   "source": [
    "repo.git.execute('git checkout -b my_branch2')"
   ]
  },
  {
   "cell_type": "code",
   "execution_count": null,
   "metadata": {},
   "outputs": [
    {
     "data": {
      "text/plain": [
       "'On branch my_branch4\\nnothing to commit, working tree clean'"
      ]
     },
     "execution_count": 36,
     "metadata": {},
     "output_type": "execute_result"
    }
   ],
   "source": [
    "repo.git.status()"
   ]
  },
  {
   "cell_type": "code",
   "execution_count": null,
   "metadata": {},
   "outputs": [
    {
     "data": {
      "text/plain": [
       "'On branch my_branch4\\nnothing to commit, working tree clean'"
      ]
     },
     "execution_count": 37,
     "metadata": {},
     "output_type": "execute_result"
    }
   ],
   "source": [
    "repo.git.status()"
   ]
  },
  {
   "cell_type": "code",
   "execution_count": null,
   "metadata": {},
   "outputs": [
    {
     "data": {
      "text/plain": [
       "''"
      ]
     },
     "execution_count": 38,
     "metadata": {},
     "output_type": "execute_result"
    }
   ],
   "source": [
    "repo.git.execute('git add .')"
   ]
  },
  {
   "cell_type": "code",
   "execution_count": null,
   "metadata": {},
   "outputs": [
    {
     "ename": "GitCommandError",
     "evalue": "Cmd('g') failed due to: exit code(1)\n  cmdline: g i t   c o m m i t   - m   \" T h i s   i s   t h e   c o m m i t \"  \n  stdout: 'On branch my_branch4\nnothing to commit, working tree clean'",
     "output_type": "error",
     "traceback": [
      "\u001b[1;31m---------------------------------------------------------------------------\u001b[0m",
      "\u001b[1;31mGitCommandError\u001b[0m                           Traceback (most recent call last)",
      "Input \u001b[1;32mIn [39]\u001b[0m, in \u001b[0;36m<cell line: 1>\u001b[1;34m()\u001b[0m\n\u001b[1;32m----> 1\u001b[0m \u001b[43mrepo\u001b[49m\u001b[38;5;241;43m.\u001b[39;49m\u001b[43mgit\u001b[49m\u001b[38;5;241;43m.\u001b[39;49m\u001b[43mexecute\u001b[49m\u001b[43m(\u001b[49m\u001b[38;5;124;43m'''\u001b[39;49m\u001b[38;5;124;43mgit commit -m \u001b[39;49m\u001b[38;5;124;43m\"\u001b[39;49m\u001b[38;5;124;43mThis is the commit\u001b[39;49m\u001b[38;5;124;43m\"\u001b[39;49m\u001b[38;5;124;43m \u001b[39;49m\u001b[38;5;124;43m'''\u001b[39;49m\u001b[43m)\u001b[49m\n",
      "File \u001b[1;32m~\\AppData\\Local\\Packages\\PythonSoftwareFoundation.Python.3.10_qbz5n2kfra8p0\\LocalCache\\local-packages\\Python310\\site-packages\\git\\cmd.py:1183\u001b[0m, in \u001b[0;36mGit.execute\u001b[1;34m(self, command, istream, with_extended_output, with_exceptions, as_process, output_stream, stdout_as_string, kill_after_timeout, with_stdout, universal_newlines, shell, env, max_chunk_size, strip_newline_in_stdout, **subprocess_kwargs)\u001b[0m\n\u001b[0;32m   1180\u001b[0m \u001b[38;5;66;03m# END handle debug printing\u001b[39;00m\n\u001b[0;32m   1182\u001b[0m \u001b[38;5;28;01mif\u001b[39;00m with_exceptions \u001b[38;5;129;01mand\u001b[39;00m status \u001b[38;5;241m!=\u001b[39m \u001b[38;5;241m0\u001b[39m:\n\u001b[1;32m-> 1183\u001b[0m     \u001b[38;5;28;01mraise\u001b[39;00m GitCommandError(redacted_command, status, stderr_value, stdout_value)\n\u001b[0;32m   1185\u001b[0m \u001b[38;5;28;01mif\u001b[39;00m \u001b[38;5;28misinstance\u001b[39m(stdout_value, \u001b[38;5;28mbytes\u001b[39m) \u001b[38;5;129;01mand\u001b[39;00m stdout_as_string:  \u001b[38;5;66;03m# Could also be output_stream.\u001b[39;00m\n\u001b[0;32m   1186\u001b[0m     stdout_value \u001b[38;5;241m=\u001b[39m safe_decode(stdout_value)\n",
      "\u001b[1;31mGitCommandError\u001b[0m: Cmd('g') failed due to: exit code(1)\n  cmdline: g i t   c o m m i t   - m   \" T h i s   i s   t h e   c o m m i t \"  \n  stdout: 'On branch my_branch4\nnothing to commit, working tree clean'"
     ]
    }
   ],
   "source": [
    "repo.git.execute('''git commit -m \"This is the commit\" ''')"
   ]
  },
  {
   "cell_type": "code",
   "execution_count": null,
   "metadata": {},
   "outputs": [
    {
     "data": {
      "text/plain": [
       "\"branch 'my_branch' set up to track 'origin/my_branch'.\""
      ]
     },
     "execution_count": 12,
     "metadata": {},
     "output_type": "execute_result"
    }
   ],
   "source": [
    "repo.git.execute('git push -u origin my_branch2')"
   ]
  }
 ],
 "metadata": {
  "kernelspec": {
   "display_name": "Python 3",
   "language": "python",
   "name": "python3"
  },
  "language_info": {
   "codemirror_mode": {
    "name": "ipython",
    "version": 3
   },
   "file_extension": ".py",
   "mimetype": "text/x-python",
   "name": "python",
   "nbconvert_exporter": "python",
   "pygments_lexer": "ipython3",
   "version": "3.10.11"
  }
 },
 "nbformat": 4,
 "nbformat_minor": 2
}
