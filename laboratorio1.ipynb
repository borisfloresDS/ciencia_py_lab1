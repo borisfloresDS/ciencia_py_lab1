{
 "cells": [
  {
   "cell_type": "markdown",
   "metadata": {},
   "source": [
    "Boris Flores\n",
    "24000177"
   ]
  },
  {
   "cell_type": "markdown",
   "metadata": {},
   "source": [
    "# GIT"
   ]
  },
  {
   "cell_type": "markdown",
   "metadata": {},
   "source": [
    "Es un sistema para llevar control de cambios de código en el desarrollo de software. Fue creado por Linus Torvalds en 2005 y era para uso en el kernel de Linux, ahora disponible para más plataformas.\n",
    "\n",
    "Git se enfoca en que varios desarrolladores puedan trabajar en el mismo código simultáneamente. Se crea un historial de los cambios y se puede revertir a versiones anteriores, al igual que unir los cambios al código principal.\n",
    "\n",
    "Git se divide por repositorios, que son los proyectos que se están desarrollando donde se pueden hacer los cambios y ser comparados o llevados como ramas."
   ]
  },
  {
   "cell_type": "markdown",
   "metadata": {},
   "source": [
    "# GitHub"
   ]
  },
  {
   "cell_type": "markdown",
   "metadata": {},
   "source": [
    "GitHub es una herramienta en línea creada alrededor de Git para poder manejar proyectos de desarrollo de datos, ya sea colaborativos o individuales, donde se pueda hacer una gestión de revisión de código antes de comprometerse a unirlo con el principal.\n",
    "\n",
    "Es muy utilizado en la industria por project managers, desarrolladores y otro tipo de colaboradores que requieran llevar el control de un proceso de desarrollo de software, en especial si es colaborativo.\n",
    "\n",
    "Una de las ventajas más grandes de GitHub son los repositorios, donde se pueden ver los cambios en el tiempo y donde las demás personas pueden contribuir; incluso si es un repositorio público, cualquiera puede contribuir al código.\n",
    "\n",
    "Como es una herramienta enfocada en proyectos, sus grandes ventajas se enfocan en: colaboración, encontrar alguna falla en el código, organización alcanzando objetivos, priorizar ciertas partes del proyecto, integración con la comunidad e integración con otras herramientas."
   ]
  },
  {
   "cell_type": "code",
   "execution_count": 2,
   "metadata": {},
   "outputs": [
    {
     "name": "stdout",
     "output_type": "stream",
     "text": [
      "Collecting gitpython\n",
      "  Obtaining dependency information for gitpython from https://files.pythonhosted.org/packages/45/c6/a637a7a11d4619957cb95ca195168759a4502991b1b91c13d3203ffc3748/GitPython-3.1.41-py3-none-any.whl.metadata\n",
      "  Downloading GitPython-3.1.41-py3-none-any.whl.metadata (14 kB)\n",
      "Collecting gitdb<5,>=4.0.1 (from gitpython)\n",
      "  Obtaining dependency information for gitdb<5,>=4.0.1 from https://files.pythonhosted.org/packages/fd/5b/8f0c4a5bb9fd491c277c21eff7ccae71b47d43c4446c9d0c6cff2fe8c2c4/gitdb-4.0.11-py3-none-any.whl.metadata\n",
      "  Downloading gitdb-4.0.11-py3-none-any.whl.metadata (1.2 kB)\n",
      "Collecting smmap<6,>=3.0.1 (from gitdb<5,>=4.0.1->gitpython)\n",
      "  Obtaining dependency information for smmap<6,>=3.0.1 from https://files.pythonhosted.org/packages/a7/a5/10f97f73544edcdef54409f1d839f6049a0d79df68adbc1ceb24d1aaca42/smmap-5.0.1-py3-none-any.whl.metadata\n",
      "  Downloading smmap-5.0.1-py3-none-any.whl.metadata (4.3 kB)\n",
      "Downloading GitPython-3.1.41-py3-none-any.whl (196 kB)\n",
      "   -------------------------------------- 196.4/196.4 kB 594.6 kB/s eta 0:00:00\n",
      "Downloading gitdb-4.0.11-py3-none-any.whl (62 kB)\n",
      "   ---------------------------------------- 62.7/62.7 kB 3.5 MB/s eta 0:00:00\n",
      "Downloading smmap-5.0.1-py3-none-any.whl (24 kB)\n",
      "Installing collected packages: smmap, gitdb, gitpython\n",
      "Successfully installed gitdb-4.0.11 gitpython-3.1.41 smmap-5.0.1\n",
      "Note: you may need to restart the kernel to use updated packages.\n"
     ]
    },
    {
     "name": "stderr",
     "output_type": "stream",
     "text": [
      "\n",
      "[notice] A new release of pip is available: 23.2.1 -> 24.0\n",
      "[notice] To update, run: C:\\Users\\boris\\AppData\\Local\\Microsoft\\WindowsApps\\PythonSoftwareFoundation.Python.3.10_qbz5n2kfra8p0\\python.exe -m pip install --upgrade pip\n"
     ]
    }
   ],
   "source": [
    "pip install gitpython"
   ]
  },
  {
   "cell_type": "code",
   "execution_count": 4,
   "metadata": {},
   "outputs": [],
   "source": [
    "import git"
   ]
  },
  {
   "cell_type": "code",
   "execution_count": null,
   "metadata": {},
   "outputs": [],
   "source": []
  }
 ],
 "metadata": {
  "kernelspec": {
   "display_name": "Python 3",
   "language": "python",
   "name": "python3"
  },
  "language_info": {
   "codemirror_mode": {
    "name": "ipython",
    "version": 3
   },
   "file_extension": ".py",
   "mimetype": "text/x-python",
   "name": "python",
   "nbconvert_exporter": "python",
   "pygments_lexer": "ipython3",
   "version": "3.10.11"
  }
 },
 "nbformat": 4,
 "nbformat_minor": 2
}
"# ciencia_py_lab1" 
"# ciencia_py_lab1" 
"# ciencia_py_lab1" 
